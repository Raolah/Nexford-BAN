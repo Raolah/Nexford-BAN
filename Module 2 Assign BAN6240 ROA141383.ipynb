{
 "cells": [
  {
   "cell_type": "code",
   "execution_count": 1,
   "id": "e533a33e-e4c6-4e87-a50e-ff64f7bd36c4",
   "metadata": {},
   "outputs": [
    {
     "name": "stdout",
     "output_type": "stream",
     "text": [
      "Requirement already satisfied: pandas in c:\\users\\hp envy\\anaconda3\\lib\\site-packages (2.2.2)\n",
      "Requirement already satisfied: numpy>=1.23.2 in c:\\users\\hp envy\\anaconda3\\lib\\site-packages (from pandas) (1.26.4)\n",
      "Requirement already satisfied: python-dateutil>=2.8.2 in c:\\users\\hp envy\\anaconda3\\lib\\site-packages (from pandas) (2.9.0.post0)\n",
      "Requirement already satisfied: pytz>=2020.1 in c:\\users\\hp envy\\anaconda3\\lib\\site-packages (from pandas) (2024.1)\n",
      "Requirement already satisfied: tzdata>=2022.7 in c:\\users\\hp envy\\anaconda3\\lib\\site-packages (from pandas) (2023.3)\n",
      "Requirement already satisfied: six>=1.5 in c:\\users\\hp envy\\anaconda3\\lib\\site-packages (from python-dateutil>=2.8.2->pandas) (1.16.0)\n"
     ]
    }
   ],
   "source": [
    "!pip install pandas"
   ]
  },
  {
   "cell_type": "code",
   "execution_count": 19,
   "id": "45dc0c25-5212-46b9-b158-aed0a0787b42",
   "metadata": {},
   "outputs": [],
   "source": [
    "import pandas as pd"
   ]
  },
  {
   "cell_type": "code",
   "execution_count": 8,
   "id": "003cab0b-d2d7-48eb-9a93-cc96e9a9b5cb",
   "metadata": {},
   "outputs": [
    {
     "name": "stdout",
     "output_type": "stream",
     "text": [
      "        EmployeeName                                        JobTitle  \\\n",
      "0     NATHANIEL FORD  GENERAL MANAGER-METROPOLITAN TRANSIT AUTHORITY   \n",
      "1       GARY JIMENEZ                 CAPTAIN III (POLICE DEPARTMENT)   \n",
      "2     ALBERT PARDINI                 CAPTAIN III (POLICE DEPARTMENT)   \n",
      "3  CHRISTOPHER CHONG            WIRE ROPE CABLE MAINTENANCE MECHANIC   \n",
      "4    PATRICK GARDNER    DEPUTY CHIEF OF DEPARTMENT,(FIRE DEPARTMENT)   \n",
      "\n",
      "     BasePay OvertimePay   OtherPay      Benefits   TotalPay  \\\n",
      "0  167411.18         0.0  400184.25  Not Provided  567595.43   \n",
      "1  155966.02   245131.88  137811.38  Not Provided  538909.28   \n",
      "2  212739.13   106088.18    16452.6  Not Provided  335279.91   \n",
      "3    77916.0    56120.71   198306.9  Not Provided  332343.61   \n",
      "4   134401.6      9737.0  182234.59  Not Provided  326373.19   \n",
      "\n",
      "   TotalPayBenefits  Year  \n",
      "0         567595.43  2011  \n",
      "1         538909.28  2011  \n",
      "2         335279.91  2011  \n",
      "3         332343.61  2011  \n",
      "4         326373.19  2011  \n"
     ]
    },
    {
     "name": "stderr",
     "output_type": "stream",
     "text": [
      "C:\\Users\\HP ENVY\\AppData\\Local\\Temp\\ipykernel_16076\\3426129683.py:2: DtypeWarning: Columns (2,3,4,5) have mixed types. Specify dtype option on import or set low_memory=False.\n",
      "  salary_data = pd.read_csv('C:\\\\Users\\\\HP ENVY\\\\Downloads\\\\Python\\\\Total.csv')\n"
     ]
    }
   ],
   "source": [
    "# Load the salary data into a DataFrame\n",
    "salary_data = pd.read_csv('C:\\\\Users\\\\HP ENVY\\\\Downloads\\\\Python\\\\Total.csv')\n",
    "\n",
    "\n",
    "# Display the first few rows of the data to verify\n",
    "print(salary_data.head())\n"
   ]
  },
  {
   "cell_type": "code",
   "execution_count": 2,
   "id": "3ba2f892-109d-46ef-8955-469c94b4db3f",
   "metadata": {},
   "outputs": [
    {
     "ename": "NameError",
     "evalue": "name 'pd' is not defined",
     "output_type": "error",
     "traceback": [
      "\u001b[1;31m---------------------------------------------------------------------------\u001b[0m",
      "\u001b[1;31mNameError\u001b[0m                                 Traceback (most recent call last)",
      "Cell \u001b[1;32mIn[2], line 16\u001b[0m\n\u001b[0;32m      2\u001b[0m dtype_col \u001b[38;5;241m=\u001b[39m {\n\u001b[0;32m      3\u001b[0m     \u001b[38;5;124m'\u001b[39m\u001b[38;5;124mColumnName1\u001b[39m\u001b[38;5;124m'\u001b[39m : \u001b[38;5;124m'\u001b[39m\u001b[38;5;124mstr\u001b[39m\u001b[38;5;124m'\u001b[39m,\n\u001b[0;32m      4\u001b[0m     \u001b[38;5;124m'\u001b[39m\u001b[38;5;124mColumnName2\u001b[39m\u001b[38;5;124m'\u001b[39m: \u001b[38;5;124m'\u001b[39m\u001b[38;5;124mstr\u001b[39m\u001b[38;5;124m'\u001b[39m,\n\u001b[1;32m   (...)\u001b[0m\n\u001b[0;32m     12\u001b[0m     \n\u001b[0;32m     13\u001b[0m }\n\u001b[0;32m     15\u001b[0m \u001b[38;5;66;03m# Load the salary data into a DataFrame \u001b[39;00m\n\u001b[1;32m---> 16\u001b[0m salary_data \u001b[38;5;241m=\u001b[39m pd\u001b[38;5;241m.\u001b[39mread_csv(\u001b[38;5;124m'\u001b[39m\u001b[38;5;124mC:\u001b[39m\u001b[38;5;130;01m\\\\\u001b[39;00m\u001b[38;5;124mUsers\u001b[39m\u001b[38;5;130;01m\\\\\u001b[39;00m\u001b[38;5;124mHP ENVY\u001b[39m\u001b[38;5;130;01m\\\\\u001b[39;00m\u001b[38;5;124mDownloads\u001b[39m\u001b[38;5;130;01m\\\\\u001b[39;00m\u001b[38;5;124mPython\u001b[39m\u001b[38;5;130;01m\\\\\u001b[39;00m\u001b[38;5;124mTotal.csv\u001b[39m\u001b[38;5;124m'\u001b[39m, dtype\u001b[38;5;241m=\u001b[39mdtype_col)\n\u001b[0;32m     18\u001b[0m \u001b[38;5;66;03m# Display the first few rows of the data to verify\u001b[39;00m\n\u001b[0;32m     19\u001b[0m \u001b[38;5;28mprint\u001b[39m(salary_data\u001b[38;5;241m.\u001b[39mhead())\n",
      "\u001b[1;31mNameError\u001b[0m: name 'pd' is not defined"
     ]
    }
   ],
   "source": [
    "#Define the data type for columns to avoid error\n",
    "dtype_col = {\n",
    "    'ColumnName1' : 'str',\n",
    "    'ColumnName2': 'str',\n",
    "    'ColumnName3' : 'float',\n",
    "    'ColoumnName4' : 'float',\n",
    "    'ColumnName5' : 'float',\n",
    "    'ColumnName6' : 'str',\n",
    "    'ColumnName7' : 'float',\n",
    "    'ColumnName8' : 'float',\n",
    "    'ColumnName9' : 'int'\n",
    "    \n",
    "}\n",
    "\n",
    "# Load the salary data into a DataFrame \n",
    "salary_data = pd.read_csv('C:\\\\Users\\\\HP ENVY\\\\Downloads\\\\Python\\\\Total.csv', dtype=dtype_col)\n",
    "\n",
    "# Display the first few rows of the data to verify\n",
    "print(salary_data.head())"
   ]
  },
  {
   "cell_type": "code",
   "execution_count": 20,
   "id": "0d59342b-33ca-4219-9b0e-7de2486555d7",
   "metadata": {},
   "outputs": [
    {
     "name": "stdout",
     "output_type": "stream",
     "text": [
      "        EmployeeName                                        JobTitle  \\\n",
      "0     NATHANIEL FORD  GENERAL MANAGER-METROPOLITAN TRANSIT AUTHORITY   \n",
      "1       GARY JIMENEZ                 CAPTAIN III (POLICE DEPARTMENT)   \n",
      "2     ALBERT PARDINI                 CAPTAIN III (POLICE DEPARTMENT)   \n",
      "3  CHRISTOPHER CHONG            WIRE ROPE CABLE MAINTENANCE MECHANIC   \n",
      "4    PATRICK GARDNER    DEPUTY CHIEF OF DEPARTMENT,(FIRE DEPARTMENT)   \n",
      "\n",
      "     BasePay OvertimePay   OtherPay      Benefits   TotalPay  \\\n",
      "0  167411.18        0.00  400184.25  Not Provided  567595.43   \n",
      "1  155966.02   245131.88  137811.38  Not Provided  538909.28   \n",
      "2  212739.13   106088.18   16452.60  Not Provided  335279.91   \n",
      "3   77916.00    56120.71  198306.90  Not Provided  332343.61   \n",
      "4  134401.60     9737.00  182234.59  Not Provided  326373.19   \n",
      "\n",
      "   TotalPayBenefits  Year  \n",
      "0         567595.43  2011  \n",
      "1         538909.28  2011  \n",
      "2         335279.91  2011  \n",
      "3         332343.61  2011  \n",
      "4         326373.19  2011  \n"
     ]
    }
   ],
   "source": [
    "#import pandas\n",
    "import pandas as pd\n",
    "\n",
    "# Load the salary data into a DataFrame using l0w_memory=False to avoid error message\n",
    "salary_data = pd.read_csv('C:\\\\Users\\\\HP ENVY\\\\Downloads\\\\Python\\\\Total.csv', low_memory=False)\n",
    "\n",
    "# Display the first few rows of the data to verify\n",
    "print(salary_data.head())\n"
   ]
  },
  {
   "cell_type": "code",
   "execution_count": 21,
   "id": "447d84b9-165c-42cd-acf1-3de1ff063e69",
   "metadata": {},
   "outputs": [
    {
     "name": "stdout",
     "output_type": "stream",
     "text": [
      "     EmployeeName                                        JobTitle    BasePay  \\\n",
      "0  NATHANIEL FORD  GENERAL MANAGER-METROPOLITAN TRANSIT AUTHORITY  167411.18   \n",
      "\n",
      "  OvertimePay   OtherPay      Benefits   TotalPay  TotalPayBenefits  Year  \n",
      "0        0.00  400184.25  Not Provided  567595.43         567595.43  2011  \n"
     ]
    }
   ],
   "source": [
    "#To create an employee function that accepts the employee's name as input and returns details\n",
    "def employee_details(employee_name):\n",
    "    employee = salary_data[salary_data['EmployeeName'] == employee_name]\n",
    "    if not employee.empty:\n",
    "        return employee\n",
    "    else:\n",
    "        return f\"Employee details not found: {employee_name}\"\n",
    "\n",
    "print(employee_details('NATHANIEL FORD'))"
   ]
  },
  {
   "cell_type": "code",
   "execution_count": 22,
   "id": "4d08b6d3-36a0-4f91-b568-57099994dfea",
   "metadata": {},
   "outputs": [
    {
     "name": "stdout",
     "output_type": "stream",
     "text": [
      "{'EmployeeName': 'NATHANIEL FORD', 'JobTitle': 'GENERAL MANAGER-METROPOLITAN TRANSIT AUTHORITY', 'BasePay': '167411.18', 'OvertimePay': '0.00', 'OtherPay': '400184.25', 'Benefits': 'Not Provided', 'TotalPay': 567595.43, 'TotalPayBenefits': 567595.43, 'Year': 2011}\n"
     ]
    }
   ],
   "source": [
    "#To process the salary data using a dictionary\n",
    "#Convert salary data into a dictionary using 'to_dict'\n",
    "salary_dict = salary_data.to_dict(orient='records')\n",
    "\n",
    "# Access the employee data by iterating through the list\n",
    "for employee in salary_dict:\n",
    "    if employee['EmployeeName'] == 'NATHANIEL FORD':\n",
    "        print(employee)"
   ]
  },
  {
   "cell_type": "code",
   "execution_count": 23,
   "id": "af90b0c7-44d4-4da7-a84c-a92a8ba08cc4",
   "metadata": {},
   "outputs": [
    {
     "name": "stdout",
     "output_type": "stream",
     "text": [
      "              EmployeeName                JobTitle BasePay OvertimePay  \\\n",
      "269812  Keiko Weng Yee Lau  Public Service Trainee  980.00        0.00   \n",
      "312879  Keiko Weng Yee Lau  Public Service Trainee    0.00        0.00   \n",
      "\n",
      "       OtherPay Benefits  TotalPay  TotalPayBenefits  Year  \n",
      "269812    32.48    10.13   1012.48           1022.61  2017  \n",
      "312879     0.00     0.00      0.00              0.00  2018  \n"
     ]
    }
   ],
   "source": [
    "#Error Handling of codes\n",
    "def employee_details(employee_name):\n",
    "    try:\n",
    "        employee = salary_data[salary_data['EmployeeName'] == employee_name]\n",
    "        return employee\n",
    "    except KeyError:\n",
    "        return f\"Error: Employee '{employee_name}' not found in the data.\"\n",
    "\n",
    "print(employee_details('Keiko Weng Yee Lau'))"
   ]
  },
  {
   "cell_type": "code",
   "execution_count": 24,
   "id": "ab518219-b286-4287-8f4c-d993bf1067e7",
   "metadata": {},
   "outputs": [
    {
     "name": "stdout",
     "output_type": "stream",
     "text": [
      "Data exported successfully!\n"
     ]
    }
   ],
   "source": [
    "#To export employee details dataframe to a CSV file \n",
    "salary_data.to_csv('Total.csv', index=False)\n",
    "\n",
    "print(\"Data exported successfully!\")"
   ]
  },
  {
   "cell_type": "code",
   "execution_count": 25,
   "id": "eeb5733c-8ef2-4636-9ac4-9819819e6928",
   "metadata": {},
   "outputs": [
    {
     "name": "stdout",
     "output_type": "stream",
     "text": [
      "Data exported and zipped successfully!\n"
     ]
    }
   ],
   "source": [
    "#To save the file into a zipped folder\n",
    "salary_data.to_csv('Employee_Profile.zip', index=False, compression=dict(method='zip', archive_name='Total.csv'))\n",
    "\n",
    "print(\"Data exported and zipped successfully!\")"
   ]
  }
 ],
 "metadata": {
  "kernelspec": {
   "display_name": "Python 3 (ipykernel)",
   "language": "python",
   "name": "python3"
  },
  "language_info": {
   "codemirror_mode": {
    "name": "ipython",
    "version": 3
   },
   "file_extension": ".py",
   "mimetype": "text/x-python",
   "name": "python",
   "nbconvert_exporter": "python",
   "pygments_lexer": "ipython3",
   "version": "3.11.5"
  }
 },
 "nbformat": 4,
 "nbformat_minor": 5
}
